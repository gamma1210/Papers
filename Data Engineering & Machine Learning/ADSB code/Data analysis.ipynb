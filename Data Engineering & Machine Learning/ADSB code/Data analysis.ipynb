{
 "cells": [
  {
   "cell_type": "code",
   "execution_count": 84,
   "metadata": {},
   "outputs": [],
   "source": [
    "import pandas as pd \n",
    "import calmap"
   ]
  },
  {
   "cell_type": "markdown",
   "metadata": {},
   "source": [
    "### Get aircraft database"
   ]
  },
  {
   "cell_type": "code",
   "execution_count": 85,
   "metadata": {},
   "outputs": [
    {
     "name": "stderr",
     "output_type": "stream",
     "text": [
      "/usr/local/lib/python3.7/site-packages/IPython/core/interactiveshell.py:2717: DtypeWarning: Columns (3,4) have mixed types. Specify dtype option on import or set low_memory=False.\n",
      "  interactivity=interactivity, compiler=compiler, result=result)\n"
     ]
    },
    {
     "data": {
      "text/html": [
       "<div>\n",
       "<style scoped>\n",
       "    .dataframe tbody tr th:only-of-type {\n",
       "        vertical-align: middle;\n",
       "    }\n",
       "\n",
       "    .dataframe tbody tr th {\n",
       "        vertical-align: top;\n",
       "    }\n",
       "\n",
       "    .dataframe thead th {\n",
       "        text-align: right;\n",
       "    }\n",
       "</style>\n",
       "<table border=\"1\" class=\"dataframe\">\n",
       "  <thead>\n",
       "    <tr style=\"text-align: right;\">\n",
       "      <th></th>\n",
       "      <th>icao</th>\n",
       "      <th>regid</th>\n",
       "      <th>mdl</th>\n",
       "      <th>type</th>\n",
       "      <th>operator</th>\n",
       "      <th>url</th>\n",
       "    </tr>\n",
       "  </thead>\n",
       "  <tbody>\n",
       "    <tr>\n",
       "      <th>0</th>\n",
       "      <td>000334</td>\n",
       "      <td>00000000</td>\n",
       "      <td>0000</td>\n",
       "      <td>Edra Super Petrel LS</td>\n",
       "      <td>Private owner</td>\n",
       "      <td>https://www.airliners.net/search?keywords=Edra...</td>\n",
       "    </tr>\n",
       "    <tr>\n",
       "      <th>1</th>\n",
       "      <td>000d77</td>\n",
       "      <td>00000000</td>\n",
       "      <td>0000</td>\n",
       "      <td>WT-9 Dynamic</td>\n",
       "      <td>Private owner</td>\n",
       "      <td>https://www.airliners.net/search?keywords=WT-9...</td>\n",
       "    </tr>\n",
       "    <tr>\n",
       "      <th>2</th>\n",
       "      <td>000d82</td>\n",
       "      <td>00000000</td>\n",
       "      <td>0000</td>\n",
       "      <td>Aerospool WT9 Dynamic</td>\n",
       "      <td>Private owner</td>\n",
       "      <td>https://www.airliners.net/search?keywords=Aero...</td>\n",
       "    </tr>\n",
       "    <tr>\n",
       "      <th>3</th>\n",
       "      <td>001100</td>\n",
       "      <td>00000000</td>\n",
       "      <td>0000</td>\n",
       "      <td>Unknown / Various</td>\n",
       "      <td>Code used by several aircraft</td>\n",
       "      <td>https://www.airliners.net/search?keywords=Unkn...</td>\n",
       "    </tr>\n",
       "    <tr>\n",
       "      <th>4</th>\n",
       "      <td>001108</td>\n",
       "      <td>00000000</td>\n",
       "      <td>0000</td>\n",
       "      <td>Gulfstream 690D</td>\n",
       "      <td>Ejercito de Colombia</td>\n",
       "      <td>https://www.airliners.net/search?keywords=Gulf...</td>\n",
       "    </tr>\n",
       "  </tbody>\n",
       "</table>\n",
       "</div>"
      ],
      "text/plain": [
       "     icao     regid   mdl                   type  \\\n",
       "0  000334  00000000  0000   Edra Super Petrel LS   \n",
       "1  000d77  00000000  0000           WT-9 Dynamic   \n",
       "2  000d82  00000000  0000  Aerospool WT9 Dynamic   \n",
       "3  001100  00000000  0000      Unknown / Various   \n",
       "4  001108  00000000  0000        Gulfstream 690D   \n",
       "\n",
       "                        operator  \\\n",
       "0                  Private owner   \n",
       "1                  Private owner   \n",
       "2                  Private owner   \n",
       "3  Code used by several aircraft   \n",
       "4           Ejercito de Colombia   \n",
       "\n",
       "                                                 url  \n",
       "0  https://www.airliners.net/search?keywords=Edra...  \n",
       "1  https://www.airliners.net/search?keywords=WT-9...  \n",
       "2  https://www.airliners.net/search?keywords=Aero...  \n",
       "3  https://www.airliners.net/search?keywords=Unkn...  \n",
       "4  https://www.airliners.net/search?keywords=Gulf...  "
      ]
     },
     "execution_count": 85,
     "metadata": {},
     "output_type": "execute_result"
    }
   ],
   "source": [
    "data = pd.read_csv('data/aircraft_db.csv')\n",
    "data['url'] = \"https://www.airliners.net/search?keywords=\" + data['type'].str.replace(' ', '+')\n",
    "data.head()"
   ]
  },
  {
   "cell_type": "code",
   "execution_count": 86,
   "metadata": {},
   "outputs": [
    {
     "name": "stdout",
     "output_type": "stream",
     "text": [
      "Number of private aircrafts: 0.1287300273728436\n",
      "Number of charter aircrafts: 0.039396524285441464\n",
      "Number of rescue aircrafts: 0.0012489655611432936\n",
      "Number of military aircrafts: 0.04422814946845757\n",
      "Number of space aircrafts: 0.00029791839073142783\n",
      "Number of training aircrafts: 0.005879432172639888\n",
      "Number of cargo aircrafts: 0.4769686167165319\n",
      "Number of unknown aircrafts: 0.30325036603221084\n",
      "Number of aircrafts overall: 785450\n"
     ]
    }
   ],
   "source": [
    "data_private = pd.read_csv('data/private_owners.csv')\n",
    "data_private['purpose'] = 'private'\n",
    "print(\"Number of private aircrafts: \" + str(len(data_private)/len(data2)))\n",
    "data_charter = pd.read_csv('data/unscheduled_charter.csv')\n",
    "data_charter['purpose'] = 'charter'\n",
    "print(\"Number of charter aircrafts: \" + str(len(data_charter)/len(data2)))\n",
    "data_rescue = pd.read_csv('data/rescue.csv')\n",
    "data_rescue['purpose'] = 'rescue'\n",
    "print(\"Number of rescue aircrafts: \" + str(len(data_rescue)/len(data2)))\n",
    "data_military = pd.read_csv('data/military.csv')\n",
    "data_military['purpose'] = 'military'\n",
    "print(\"Number of military aircrafts: \" + str(len(data_military)/len(data2)))\n",
    "data_space = pd.read_csv('data/space.csv')\n",
    "data_space['purpose'] = 'space'\n",
    "print(\"Number of space aircrafts: \" + str(len(data_space)/len(data2)))\n",
    "data_training = pd.read_csv('data/academy_and_clubs.csv')\n",
    "data_training['purpose'] = 'training'\n",
    "print(\"Number of training aircrafts: \" + str(len(data_training)/len(data2)))\n",
    "data_cargo = pd.read_csv('data/cargo.csv')\n",
    "data_cargo['purpose'] = 'cargo'\n",
    "print(\"Number of cargo aircrafts: \" + str(len(data_cargo)/len(data2)))\n",
    "data_unknown = pd.read_csv('data/unknown.csv')\n",
    "data_unknown['purpose'] = 'unknown'\n",
    "print(\"Number of unknown aircrafts: \" + str(len(data_unknown)/len(data2)))\n",
    "\n",
    "data2 = pd.concat([data_training, data_space, data_military, data_rescue, data_charter, data_private, data_cargo, data_unknown])\n",
    "\n",
    "print(\"Number of aircrafts overall: \" + str(len(data2)))\n",
    "\n"
   ]
  },
  {
   "cell_type": "code",
   "execution_count": 87,
   "metadata": {},
   "outputs": [
    {
     "data": {
      "text/html": [
       "<div>\n",
       "<style scoped>\n",
       "    .dataframe tbody tr th:only-of-type {\n",
       "        vertical-align: middle;\n",
       "    }\n",
       "\n",
       "    .dataframe tbody tr th {\n",
       "        vertical-align: top;\n",
       "    }\n",
       "\n",
       "    .dataframe thead th {\n",
       "        text-align: right;\n",
       "    }\n",
       "</style>\n",
       "<table border=\"1\" class=\"dataframe\">\n",
       "  <thead>\n",
       "    <tr style=\"text-align: right;\">\n",
       "      <th></th>\n",
       "      <th>icao</th>\n",
       "      <th>altitude</th>\n",
       "      <th>latitude</th>\n",
       "      <th>longitude</th>\n",
       "      <th>time</th>\n",
       "      <th>flight_num</th>\n",
       "      <th>purpose</th>\n",
       "    </tr>\n",
       "  </thead>\n",
       "  <tbody>\n",
       "    <tr>\n",
       "      <th>0</th>\n",
       "      <td>3ccb16</td>\n",
       "      <td>0</td>\n",
       "      <td>47.99</td>\n",
       "      <td>10.23</td>\n",
       "      <td>1474546955239</td>\n",
       "      <td>0</td>\n",
       "      <td>unknown</td>\n",
       "    </tr>\n",
       "    <tr>\n",
       "      <th>1</th>\n",
       "      <td>3ccb16</td>\n",
       "      <td>0</td>\n",
       "      <td>47.99</td>\n",
       "      <td>10.24</td>\n",
       "      <td>1474546862871</td>\n",
       "      <td>0</td>\n",
       "      <td>unknown</td>\n",
       "    </tr>\n",
       "    <tr>\n",
       "      <th>2</th>\n",
       "      <td>3ccb16</td>\n",
       "      <td>1950</td>\n",
       "      <td>47.99</td>\n",
       "      <td>10.24</td>\n",
       "      <td>1474549372599</td>\n",
       "      <td>0</td>\n",
       "      <td>unknown</td>\n",
       "    </tr>\n",
       "    <tr>\n",
       "      <th>3</th>\n",
       "      <td>3ccb16</td>\n",
       "      <td>2700</td>\n",
       "      <td>48.67</td>\n",
       "      <td>9.10</td>\n",
       "      <td>1474225891897</td>\n",
       "      <td>4</td>\n",
       "      <td>unknown</td>\n",
       "    </tr>\n",
       "    <tr>\n",
       "      <th>4</th>\n",
       "      <td>3ccb16</td>\n",
       "      <td>2825</td>\n",
       "      <td>48.72</td>\n",
       "      <td>9.39</td>\n",
       "      <td>1474654758085</td>\n",
       "      <td>2</td>\n",
       "      <td>unknown</td>\n",
       "    </tr>\n",
       "  </tbody>\n",
       "</table>\n",
       "</div>"
      ],
      "text/plain": [
       "     icao  altitude  latitude  longitude           time  flight_num  purpose\n",
       "0  3ccb16         0     47.99      10.23  1474546955239           0  unknown\n",
       "1  3ccb16         0     47.99      10.24  1474546862871           0  unknown\n",
       "2  3ccb16      1950     47.99      10.24  1474549372599           0  unknown\n",
       "3  3ccb16      2700     48.67       9.10  1474225891897           4  unknown\n",
       "4  3ccb16      2825     48.72       9.39  1474654758085           2  unknown"
      ]
     },
     "execution_count": 87,
     "metadata": {},
     "output_type": "execute_result"
    }
   ],
   "source": [
    "data2[data2['purpose']=='unknown'].head()"
   ]
  },
  {
   "cell_type": "code",
   "execution_count": 88,
   "metadata": {},
   "outputs": [],
   "source": [
    "data3 = pd.merge(data2, data, how='inner', on='icao')"
   ]
  },
  {
   "cell_type": "code",
   "execution_count": 89,
   "metadata": {},
   "outputs": [
    {
     "data": {
      "text/html": [
       "<div>\n",
       "<style scoped>\n",
       "    .dataframe tbody tr th:only-of-type {\n",
       "        vertical-align: middle;\n",
       "    }\n",
       "\n",
       "    .dataframe tbody tr th {\n",
       "        vertical-align: top;\n",
       "    }\n",
       "\n",
       "    .dataframe thead th {\n",
       "        text-align: right;\n",
       "    }\n",
       "</style>\n",
       "<table border=\"1\" class=\"dataframe\">\n",
       "  <thead>\n",
       "    <tr style=\"text-align: right;\">\n",
       "      <th></th>\n",
       "      <th>icao</th>\n",
       "      <th>altitude</th>\n",
       "      <th>latitude</th>\n",
       "      <th>longitude</th>\n",
       "      <th>time</th>\n",
       "      <th>flight_num</th>\n",
       "      <th>purpose</th>\n",
       "      <th>regid</th>\n",
       "      <th>mdl</th>\n",
       "      <th>type</th>\n",
       "      <th>operator</th>\n",
       "      <th>url</th>\n",
       "    </tr>\n",
       "  </thead>\n",
       "  <tbody>\n",
       "    <tr>\n",
       "      <th>261293</th>\n",
       "      <td>738c05</td>\n",
       "      <td>40000</td>\n",
       "      <td>46.38</td>\n",
       "      <td>11.13</td>\n",
       "      <td>2016-09-18 00:00:00.664</td>\n",
       "      <td>1</td>\n",
       "      <td>cargo</td>\n",
       "      <td>4x-icb</td>\n",
       "      <td>b744</td>\n",
       "      <td>Boeing 747-412</td>\n",
       "      <td>Cargo Air Lines</td>\n",
       "      <td>https://www.airliners.net/search?keywords=Boei...</td>\n",
       "    </tr>\n",
       "    <tr>\n",
       "      <th>198993</th>\n",
       "      <td>acb89b</td>\n",
       "      <td>35025</td>\n",
       "      <td>54.59</td>\n",
       "      <td>9.90</td>\n",
       "      <td>2016-09-18 00:00:00.906</td>\n",
       "      <td>0</td>\n",
       "      <td>cargo</td>\n",
       "      <td>n919fd</td>\n",
       "      <td>b752</td>\n",
       "      <td>Boeing 757-23A</td>\n",
       "      <td>FedEx</td>\n",
       "      <td>https://www.airliners.net/search?keywords=Boei...</td>\n",
       "    </tr>\n",
       "    <tr>\n",
       "      <th>173256</th>\n",
       "      <td>abc1da</td>\n",
       "      <td>26050</td>\n",
       "      <td>45.26</td>\n",
       "      <td>7.34</td>\n",
       "      <td>2016-09-18 00:00:00.986</td>\n",
       "      <td>0</td>\n",
       "      <td>cargo</td>\n",
       "      <td>n857fd</td>\n",
       "      <td>b77l</td>\n",
       "      <td>Boeing 777-FS2</td>\n",
       "      <td>FedEx</td>\n",
       "      <td>https://www.airliners.net/search?keywords=Boei...</td>\n",
       "    </tr>\n",
       "    <tr>\n",
       "      <th>207793</th>\n",
       "      <td>acc619</td>\n",
       "      <td>37000</td>\n",
       "      <td>39.90</td>\n",
       "      <td>16.06</td>\n",
       "      <td>2016-09-18 00:00:01.130</td>\n",
       "      <td>0</td>\n",
       "      <td>cargo</td>\n",
       "      <td>n922fd</td>\n",
       "      <td>b752</td>\n",
       "      <td>Boeing 757-23A</td>\n",
       "      <td>FedEx</td>\n",
       "      <td>https://www.airliners.net/search?keywords=Boei...</td>\n",
       "    </tr>\n",
       "    <tr>\n",
       "      <th>175054</th>\n",
       "      <td>abf0c7</td>\n",
       "      <td>33000</td>\n",
       "      <td>46.75</td>\n",
       "      <td>13.06</td>\n",
       "      <td>2016-09-18 00:00:01.217</td>\n",
       "      <td>0</td>\n",
       "      <td>cargo</td>\n",
       "      <td>n869fd</td>\n",
       "      <td>b77l</td>\n",
       "      <td>Boeing 777-FS2</td>\n",
       "      <td>FedEx</td>\n",
       "      <td>https://www.airliners.net/search?keywords=Boei...</td>\n",
       "    </tr>\n",
       "  </tbody>\n",
       "</table>\n",
       "</div>"
      ],
      "text/plain": [
       "          icao  altitude  latitude  longitude                    time  \\\n",
       "261293  738c05     40000     46.38      11.13 2016-09-18 00:00:00.664   \n",
       "198993  acb89b     35025     54.59       9.90 2016-09-18 00:00:00.906   \n",
       "173256  abc1da     26050     45.26       7.34 2016-09-18 00:00:00.986   \n",
       "207793  acc619     37000     39.90      16.06 2016-09-18 00:00:01.130   \n",
       "175054  abf0c7     33000     46.75      13.06 2016-09-18 00:00:01.217   \n",
       "\n",
       "        flight_num purpose   regid   mdl            type         operator  \\\n",
       "261293           1   cargo  4x-icb  b744  Boeing 747-412  Cargo Air Lines   \n",
       "198993           0   cargo  n919fd  b752  Boeing 757-23A            FedEx   \n",
       "173256           0   cargo  n857fd  b77l  Boeing 777-FS2            FedEx   \n",
       "207793           0   cargo  n922fd  b752  Boeing 757-23A            FedEx   \n",
       "175054           0   cargo  n869fd  b77l  Boeing 777-FS2            FedEx   \n",
       "\n",
       "                                                      url  \n",
       "261293  https://www.airliners.net/search?keywords=Boei...  \n",
       "198993  https://www.airliners.net/search?keywords=Boei...  \n",
       "173256  https://www.airliners.net/search?keywords=Boei...  \n",
       "207793  https://www.airliners.net/search?keywords=Boei...  \n",
       "175054  https://www.airliners.net/search?keywords=Boei...  "
      ]
     },
     "execution_count": 89,
     "metadata": {},
     "output_type": "execute_result"
    }
   ],
   "source": [
    "data3['time'] = pd.to_datetime(data3['time'], unit = 'ms')\n",
    "\n",
    "data3 = data3.sort_values(by='time')\n",
    "\n",
    "data3.head()"
   ]
  },
  {
   "cell_type": "markdown",
   "metadata": {},
   "source": [
    "### Data analysis"
   ]
  },
  {
   "cell_type": "markdown",
   "metadata": {},
   "source": [
    "### Most common operators for each purpose"
   ]
  },
  {
   "cell_type": "code",
   "execution_count": 90,
   "metadata": {},
   "outputs": [
    {
     "name": "stderr",
     "output_type": "stream",
     "text": [
      "/usr/local/lib/python3.7/site-packages/ipykernel_launcher.py:2: FutureWarning: using a dict on a Series for aggregation\n",
      "is deprecated and will be removed in a future version\n",
      "  \n"
     ]
    }
   ],
   "source": [
    "df_top_freq = data3.groupby(['purpose', 'operator'])['icao'].agg(\n",
    "    {\"Occurence count\": len}).sort_values(\n",
    "    \"Occurence count\", ascending=False).reset_index()"
   ]
  },
  {
   "cell_type": "code",
   "execution_count": 91,
   "metadata": {},
   "outputs": [
    {
     "data": {
      "text/html": [
       "<div>\n",
       "<style scoped>\n",
       "    .dataframe tbody tr th:only-of-type {\n",
       "        vertical-align: middle;\n",
       "    }\n",
       "\n",
       "    .dataframe tbody tr th {\n",
       "        vertical-align: top;\n",
       "    }\n",
       "\n",
       "    .dataframe thead th {\n",
       "        text-align: right;\n",
       "    }\n",
       "</style>\n",
       "<table border=\"1\" class=\"dataframe\">\n",
       "  <thead>\n",
       "    <tr style=\"text-align: right;\">\n",
       "      <th></th>\n",
       "      <th>purpose</th>\n",
       "      <th>operator</th>\n",
       "      <th>Occurence count</th>\n",
       "    </tr>\n",
       "  </thead>\n",
       "  <tbody>\n",
       "    <tr>\n",
       "      <th>1</th>\n",
       "      <td>private</td>\n",
       "      <td>Private owner</td>\n",
       "      <td>101111</td>\n",
       "    </tr>\n",
       "  </tbody>\n",
       "</table>\n",
       "</div>"
      ],
      "text/plain": [
       "   purpose       operator  Occurence count\n",
       "1  private  Private owner           101111"
      ]
     },
     "execution_count": 91,
     "metadata": {},
     "output_type": "execute_result"
    }
   ],
   "source": [
    "df_top_freq[df_top_freq['purpose'] == 'private'].head(5)"
   ]
  },
  {
   "cell_type": "code",
   "execution_count": 92,
   "metadata": {},
   "outputs": [
    {
     "data": {
      "text/html": [
       "<div>\n",
       "<style scoped>\n",
       "    .dataframe tbody tr th:only-of-type {\n",
       "        vertical-align: middle;\n",
       "    }\n",
       "\n",
       "    .dataframe tbody tr th {\n",
       "        vertical-align: top;\n",
       "    }\n",
       "\n",
       "    .dataframe thead th {\n",
       "        text-align: right;\n",
       "    }\n",
       "</style>\n",
       "<table border=\"1\" class=\"dataframe\">\n",
       "  <thead>\n",
       "    <tr style=\"text-align: right;\">\n",
       "      <th></th>\n",
       "      <th>purpose</th>\n",
       "      <th>operator</th>\n",
       "      <th>Occurence count</th>\n",
       "    </tr>\n",
       "  </thead>\n",
       "  <tbody>\n",
       "    <tr>\n",
       "      <th>0</th>\n",
       "      <td>cargo</td>\n",
       "      <td>FedEx</td>\n",
       "      <td>191261</td>\n",
       "    </tr>\n",
       "    <tr>\n",
       "      <th>2</th>\n",
       "      <td>cargo</td>\n",
       "      <td>UPS</td>\n",
       "      <td>26051</td>\n",
       "    </tr>\n",
       "    <tr>\n",
       "      <th>3</th>\n",
       "      <td>cargo</td>\n",
       "      <td>DHL</td>\n",
       "      <td>22678</td>\n",
       "    </tr>\n",
       "    <tr>\n",
       "      <th>6</th>\n",
       "      <td>cargo</td>\n",
       "      <td>KLM Cargo</td>\n",
       "      <td>13122</td>\n",
       "    </tr>\n",
       "    <tr>\n",
       "      <th>7</th>\n",
       "      <td>cargo</td>\n",
       "      <td>Cargo Air</td>\n",
       "      <td>9982</td>\n",
       "    </tr>\n",
       "  </tbody>\n",
       "</table>\n",
       "</div>"
      ],
      "text/plain": [
       "  purpose   operator  Occurence count\n",
       "0   cargo      FedEx           191261\n",
       "2   cargo        UPS            26051\n",
       "3   cargo        DHL            22678\n",
       "6   cargo  KLM Cargo            13122\n",
       "7   cargo  Cargo Air             9982"
      ]
     },
     "execution_count": 92,
     "metadata": {},
     "output_type": "execute_result"
    }
   ],
   "source": [
    "df_top_freq[df_top_freq['purpose'] == 'cargo'].head(5)"
   ]
  },
  {
   "cell_type": "code",
   "execution_count": 93,
   "metadata": {},
   "outputs": [
    {
     "data": {
      "text/html": [
       "<div>\n",
       "<style scoped>\n",
       "    .dataframe tbody tr th:only-of-type {\n",
       "        vertical-align: middle;\n",
       "    }\n",
       "\n",
       "    .dataframe tbody tr th {\n",
       "        vertical-align: top;\n",
       "    }\n",
       "\n",
       "    .dataframe thead th {\n",
       "        text-align: right;\n",
       "    }\n",
       "</style>\n",
       "<table border=\"1\" class=\"dataframe\">\n",
       "  <thead>\n",
       "    <tr style=\"text-align: right;\">\n",
       "      <th></th>\n",
       "      <th>purpose</th>\n",
       "      <th>operator</th>\n",
       "      <th>Occurence count</th>\n",
       "    </tr>\n",
       "  </thead>\n",
       "  <tbody>\n",
       "    <tr>\n",
       "      <th>4</th>\n",
       "      <td>military</td>\n",
       "      <td>Swiss Air Force</td>\n",
       "      <td>14981</td>\n",
       "    </tr>\n",
       "    <tr>\n",
       "      <th>13</th>\n",
       "      <td>military</td>\n",
       "      <td>Royal Air Force</td>\n",
       "      <td>7778</td>\n",
       "    </tr>\n",
       "    <tr>\n",
       "      <th>15</th>\n",
       "      <td>military</td>\n",
       "      <td>Italian Air Force</td>\n",
       "      <td>7081</td>\n",
       "    </tr>\n",
       "    <tr>\n",
       "      <th>39</th>\n",
       "      <td>military</td>\n",
       "      <td>Airbus Military</td>\n",
       "      <td>1217</td>\n",
       "    </tr>\n",
       "    <tr>\n",
       "      <th>41</th>\n",
       "      <td>military</td>\n",
       "      <td>French Air Force</td>\n",
       "      <td>1124</td>\n",
       "    </tr>\n",
       "  </tbody>\n",
       "</table>\n",
       "</div>"
      ],
      "text/plain": [
       "     purpose           operator  Occurence count\n",
       "4   military    Swiss Air Force            14981\n",
       "13  military    Royal Air Force             7778\n",
       "15  military  Italian Air Force             7081\n",
       "39  military    Airbus Military             1217\n",
       "41  military   French Air Force             1124"
      ]
     },
     "execution_count": 93,
     "metadata": {},
     "output_type": "execute_result"
    }
   ],
   "source": [
    "df_top_freq[df_top_freq['purpose'] == 'military'].head(5)"
   ]
  },
  {
   "cell_type": "code",
   "execution_count": 94,
   "metadata": {},
   "outputs": [
    {
     "data": {
      "text/html": [
       "<div>\n",
       "<style scoped>\n",
       "    .dataframe tbody tr th:only-of-type {\n",
       "        vertical-align: middle;\n",
       "    }\n",
       "\n",
       "    .dataframe tbody tr th {\n",
       "        vertical-align: top;\n",
       "    }\n",
       "\n",
       "    .dataframe thead th {\n",
       "        text-align: right;\n",
       "    }\n",
       "</style>\n",
       "<table border=\"1\" class=\"dataframe\">\n",
       "  <thead>\n",
       "    <tr style=\"text-align: right;\">\n",
       "      <th></th>\n",
       "      <th>purpose</th>\n",
       "      <th>operator</th>\n",
       "      <th>Occurence count</th>\n",
       "    </tr>\n",
       "  </thead>\n",
       "  <tbody>\n",
       "    <tr>\n",
       "      <th>19</th>\n",
       "      <td>training</td>\n",
       "      <td>Oxford Aviation Academy</td>\n",
       "      <td>3575</td>\n",
       "    </tr>\n",
       "    <tr>\n",
       "      <th>54</th>\n",
       "      <td>training</td>\n",
       "      <td>European Aircraft Private Club</td>\n",
       "      <td>619</td>\n",
       "    </tr>\n",
       "    <tr>\n",
       "      <th>87</th>\n",
       "      <td>training</td>\n",
       "      <td>Aero Club Bergamo</td>\n",
       "      <td>173</td>\n",
       "    </tr>\n",
       "    <tr>\n",
       "      <th>94</th>\n",
       "      <td>training</td>\n",
       "      <td>Motorflug-Club Salzgitter eV</td>\n",
       "      <td>91</td>\n",
       "    </tr>\n",
       "    <tr>\n",
       "      <th>95</th>\n",
       "      <td>training</td>\n",
       "      <td>Aero Club de Valence</td>\n",
       "      <td>86</td>\n",
       "    </tr>\n",
       "  </tbody>\n",
       "</table>\n",
       "</div>"
      ],
      "text/plain": [
       "     purpose                        operator  Occurence count\n",
       "19  training         Oxford Aviation Academy             3575\n",
       "54  training  European Aircraft Private Club              619\n",
       "87  training               Aero Club Bergamo              173\n",
       "94  training    Motorflug-Club Salzgitter eV               91\n",
       "95  training            Aero Club de Valence               86"
      ]
     },
     "execution_count": 94,
     "metadata": {},
     "output_type": "execute_result"
    }
   ],
   "source": [
    "df_top_freq[df_top_freq['purpose'] == 'training'].head(5)"
   ]
  },
  {
   "cell_type": "code",
   "execution_count": 95,
   "metadata": {},
   "outputs": [
    {
     "name": "stdout",
     "output_type": "stream",
     "text": [
      "\\begin{tabular}{lr}\n",
      "\\toprule\n",
      "          operator &  Occurence count \\\\\n",
      "\\midrule\n",
      " German Air Rescue &              981 \\\\\n",
      "\\bottomrule\n",
      "\\end{tabular}\n",
      "\n"
     ]
    }
   ],
   "source": [
    "print(df_top_freq[df_top_freq['purpose'] == 'rescue'].drop('purpose', axis=1).head(5).to_latex(index=False))"
   ]
  },
  {
   "cell_type": "markdown",
   "metadata": {},
   "source": [
    "### Most common types for each purpose"
   ]
  },
  {
   "cell_type": "code",
   "execution_count": 96,
   "metadata": {},
   "outputs": [
    {
     "name": "stderr",
     "output_type": "stream",
     "text": [
      "/usr/local/lib/python3.7/site-packages/ipykernel_launcher.py:2: FutureWarning: using a dict on a Series for aggregation\n",
      "is deprecated and will be removed in a future version\n",
      "  \n"
     ]
    }
   ],
   "source": [
    "df_top_freq = data3.groupby(['purpose', 'type'])['icao'].agg(\n",
    "    {\"Occurrence count\": len}).sort_values(\n",
    "    \"Occurrence count\", ascending=False).reset_index()"
   ]
  },
  {
   "cell_type": "code",
   "execution_count": 97,
   "metadata": {},
   "outputs": [
    {
     "data": {
      "text/html": [
       "<div>\n",
       "<style scoped>\n",
       "    .dataframe tbody tr th:only-of-type {\n",
       "        vertical-align: middle;\n",
       "    }\n",
       "\n",
       "    .dataframe tbody tr th {\n",
       "        vertical-align: top;\n",
       "    }\n",
       "\n",
       "    .dataframe thead th {\n",
       "        text-align: right;\n",
       "    }\n",
       "</style>\n",
       "<table border=\"1\" class=\"dataframe\">\n",
       "  <thead>\n",
       "    <tr style=\"text-align: right;\">\n",
       "      <th></th>\n",
       "      <th>purpose</th>\n",
       "      <th>type</th>\n",
       "      <th>Occurrence count</th>\n",
       "    </tr>\n",
       "  </thead>\n",
       "  <tbody>\n",
       "    <tr>\n",
       "      <th>36</th>\n",
       "      <td>private</td>\n",
       "      <td>Cirrus SR22</td>\n",
       "      <td>3217</td>\n",
       "    </tr>\n",
       "    <tr>\n",
       "      <th>39</th>\n",
       "      <td>private</td>\n",
       "      <td>Cirrus SR22T</td>\n",
       "      <td>2941</td>\n",
       "    </tr>\n",
       "    <tr>\n",
       "      <th>56</th>\n",
       "      <td>private</td>\n",
       "      <td>Piper PA28-161</td>\n",
       "      <td>1828</td>\n",
       "    </tr>\n",
       "    <tr>\n",
       "      <th>59</th>\n",
       "      <td>private</td>\n",
       "      <td>Beech B200 Super King Air</td>\n",
       "      <td>1668</td>\n",
       "    </tr>\n",
       "    <tr>\n",
       "      <th>62</th>\n",
       "      <td>private</td>\n",
       "      <td>Bell 429 GlobalRanger</td>\n",
       "      <td>1629</td>\n",
       "    </tr>\n",
       "  </tbody>\n",
       "</table>\n",
       "</div>"
      ],
      "text/plain": [
       "    purpose                       type  Occurrence count\n",
       "36  private                Cirrus SR22              3217\n",
       "39  private               Cirrus SR22T              2941\n",
       "56  private             Piper PA28-161              1828\n",
       "59  private  Beech B200 Super King Air              1668\n",
       "62  private      Bell 429 GlobalRanger              1629"
      ]
     },
     "execution_count": 97,
     "metadata": {},
     "output_type": "execute_result"
    }
   ],
   "source": [
    "df_top_freq[df_top_freq['purpose'] == 'private'].head(5)"
   ]
  },
  {
   "cell_type": "code",
   "execution_count": 98,
   "metadata": {},
   "outputs": [
    {
     "data": {
      "text/html": [
       "<div>\n",
       "<style scoped>\n",
       "    .dataframe tbody tr th:only-of-type {\n",
       "        vertical-align: middle;\n",
       "    }\n",
       "\n",
       "    .dataframe tbody tr th {\n",
       "        vertical-align: top;\n",
       "    }\n",
       "\n",
       "    .dataframe thead th {\n",
       "        text-align: right;\n",
       "    }\n",
       "</style>\n",
       "<table border=\"1\" class=\"dataframe\">\n",
       "  <thead>\n",
       "    <tr style=\"text-align: right;\">\n",
       "      <th></th>\n",
       "      <th>purpose</th>\n",
       "      <th>type</th>\n",
       "      <th>Occurrence count</th>\n",
       "    </tr>\n",
       "  </thead>\n",
       "  <tbody>\n",
       "    <tr>\n",
       "      <th>0</th>\n",
       "      <td>cargo</td>\n",
       "      <td>McDonnell Douglas MD-11F</td>\n",
       "      <td>46172</td>\n",
       "    </tr>\n",
       "    <tr>\n",
       "      <th>1</th>\n",
       "      <td>cargo</td>\n",
       "      <td>Airbus A300B4-622R</td>\n",
       "      <td>38008</td>\n",
       "    </tr>\n",
       "    <tr>\n",
       "      <th>2</th>\n",
       "      <td>cargo</td>\n",
       "      <td>Boeing 757-23A</td>\n",
       "      <td>22132</td>\n",
       "    </tr>\n",
       "    <tr>\n",
       "      <th>3</th>\n",
       "      <td>cargo</td>\n",
       "      <td>Boeing 757-236</td>\n",
       "      <td>20889</td>\n",
       "    </tr>\n",
       "    <tr>\n",
       "      <th>4</th>\n",
       "      <td>cargo</td>\n",
       "      <td>Boeing 757-28A</td>\n",
       "      <td>14235</td>\n",
       "    </tr>\n",
       "  </tbody>\n",
       "</table>\n",
       "</div>"
      ],
      "text/plain": [
       "  purpose                      type  Occurrence count\n",
       "0   cargo  McDonnell Douglas MD-11F             46172\n",
       "1   cargo        Airbus A300B4-622R             38008\n",
       "2   cargo            Boeing 757-23A             22132\n",
       "3   cargo            Boeing 757-236             20889\n",
       "4   cargo            Boeing 757-28A             14235"
      ]
     },
     "execution_count": 98,
     "metadata": {},
     "output_type": "execute_result"
    }
   ],
   "source": [
    "df_top_freq[df_top_freq['purpose'] == 'cargo'].head(5)"
   ]
  },
  {
   "cell_type": "code",
   "execution_count": 99,
   "metadata": {},
   "outputs": [
    {
     "data": {
      "text/html": [
       "<div>\n",
       "<style scoped>\n",
       "    .dataframe tbody tr th:only-of-type {\n",
       "        vertical-align: middle;\n",
       "    }\n",
       "\n",
       "    .dataframe tbody tr th {\n",
       "        vertical-align: top;\n",
       "    }\n",
       "\n",
       "    .dataframe thead th {\n",
       "        text-align: right;\n",
       "    }\n",
       "</style>\n",
       "<table border=\"1\" class=\"dataframe\">\n",
       "  <thead>\n",
       "    <tr style=\"text-align: right;\">\n",
       "      <th></th>\n",
       "      <th>purpose</th>\n",
       "      <th>type</th>\n",
       "      <th>Occurrence count</th>\n",
       "    </tr>\n",
       "  </thead>\n",
       "  <tbody>\n",
       "    <tr>\n",
       "      <th>9</th>\n",
       "      <td>military</td>\n",
       "      <td>Pilatus PC-21</td>\n",
       "      <td>8649</td>\n",
       "    </tr>\n",
       "    <tr>\n",
       "      <th>18</th>\n",
       "      <td>military</td>\n",
       "      <td>Boeing 767-2EY</td>\n",
       "      <td>5457</td>\n",
       "    </tr>\n",
       "    <tr>\n",
       "      <th>26</th>\n",
       "      <td>military</td>\n",
       "      <td>Airbus KC2 Voyager</td>\n",
       "      <td>4738</td>\n",
       "    </tr>\n",
       "    <tr>\n",
       "      <th>28</th>\n",
       "      <td>military</td>\n",
       "      <td>Pilatus PC21</td>\n",
       "      <td>4241</td>\n",
       "    </tr>\n",
       "    <tr>\n",
       "      <th>43</th>\n",
       "      <td>military</td>\n",
       "      <td>British Aerospace Avro RJ100</td>\n",
       "      <td>2605</td>\n",
       "    </tr>\n",
       "  </tbody>\n",
       "</table>\n",
       "</div>"
      ],
      "text/plain": [
       "     purpose                          type  Occurrence count\n",
       "9   military                 Pilatus PC-21              8649\n",
       "18  military                Boeing 767-2EY              5457\n",
       "26  military            Airbus KC2 Voyager              4738\n",
       "28  military                  Pilatus PC21              4241\n",
       "43  military  British Aerospace Avro RJ100              2605"
      ]
     },
     "execution_count": 99,
     "metadata": {},
     "output_type": "execute_result"
    }
   ],
   "source": [
    "df_top_freq[df_top_freq['purpose'] == 'military'].head(5)"
   ]
  },
  {
   "cell_type": "code",
   "execution_count": 100,
   "metadata": {},
   "outputs": [
    {
     "data": {
      "text/html": [
       "<div>\n",
       "<style scoped>\n",
       "    .dataframe tbody tr th:only-of-type {\n",
       "        vertical-align: middle;\n",
       "    }\n",
       "\n",
       "    .dataframe tbody tr th {\n",
       "        vertical-align: top;\n",
       "    }\n",
       "\n",
       "    .dataframe thead th {\n",
       "        text-align: right;\n",
       "    }\n",
       "</style>\n",
       "<table border=\"1\" class=\"dataframe\">\n",
       "  <thead>\n",
       "    <tr style=\"text-align: right;\">\n",
       "      <th></th>\n",
       "      <th>purpose</th>\n",
       "      <th>type</th>\n",
       "      <th>Occurrence count</th>\n",
       "    </tr>\n",
       "  </thead>\n",
       "  <tbody>\n",
       "    <tr>\n",
       "      <th>73</th>\n",
       "      <td>training</td>\n",
       "      <td>Piper PA34-220T Seneca IV</td>\n",
       "      <td>1325</td>\n",
       "    </tr>\n",
       "    <tr>\n",
       "      <th>74</th>\n",
       "      <td>training</td>\n",
       "      <td>Piper PA34-220T Seneca</td>\n",
       "      <td>1322</td>\n",
       "    </tr>\n",
       "    <tr>\n",
       "      <th>97</th>\n",
       "      <td>training</td>\n",
       "      <td>Piper PA-34-220T Seneca V</td>\n",
       "      <td>928</td>\n",
       "    </tr>\n",
       "    <tr>\n",
       "      <th>129</th>\n",
       "      <td>training</td>\n",
       "      <td>Pilatus PC-12/47E</td>\n",
       "      <td>619</td>\n",
       "    </tr>\n",
       "    <tr>\n",
       "      <th>330</th>\n",
       "      <td>training</td>\n",
       "      <td>Cessna 152</td>\n",
       "      <td>173</td>\n",
       "    </tr>\n",
       "  </tbody>\n",
       "</table>\n",
       "</div>"
      ],
      "text/plain": [
       "      purpose                       type  Occurrence count\n",
       "73   training  Piper PA34-220T Seneca IV              1325\n",
       "74   training     Piper PA34-220T Seneca              1322\n",
       "97   training  Piper PA-34-220T Seneca V               928\n",
       "129  training          Pilatus PC-12/47E               619\n",
       "330  training                 Cessna 152               173"
      ]
     },
     "execution_count": 100,
     "metadata": {},
     "output_type": "execute_result"
    }
   ],
   "source": [
    "df_top_freq[df_top_freq['purpose'] == 'training'].head(5)"
   ]
  },
  {
   "cell_type": "code",
   "execution_count": 101,
   "metadata": {},
   "outputs": [
    {
     "data": {
      "text/html": [
       "<div>\n",
       "<style scoped>\n",
       "    .dataframe tbody tr th:only-of-type {\n",
       "        vertical-align: middle;\n",
       "    }\n",
       "\n",
       "    .dataframe tbody tr th {\n",
       "        vertical-align: top;\n",
       "    }\n",
       "\n",
       "    .dataframe thead th {\n",
       "        text-align: right;\n",
       "    }\n",
       "</style>\n",
       "<table border=\"1\" class=\"dataframe\">\n",
       "  <thead>\n",
       "    <tr style=\"text-align: right;\">\n",
       "      <th></th>\n",
       "      <th>purpose</th>\n",
       "      <th>type</th>\n",
       "      <th>Occurrence count</th>\n",
       "    </tr>\n",
       "  </thead>\n",
       "  <tbody>\n",
       "  </tbody>\n",
       "</table>\n",
       "</div>"
      ],
      "text/plain": [
       "Empty DataFrame\n",
       "Columns: [purpose, type, Occurrence count]\n",
       "Index: []"
      ]
     },
     "execution_count": 101,
     "metadata": {},
     "output_type": "execute_result"
    }
   ],
   "source": [
    "df_top_freq[df_top_freq['purpose'] == 'unknown'].head(5)"
   ]
  },
  {
   "cell_type": "markdown",
   "metadata": {},
   "source": [
    "### Average altitude for each purpose"
   ]
  },
  {
   "cell_type": "code",
   "execution_count": 109,
   "metadata": {},
   "outputs": [
    {
     "data": {
      "image/png": "[encoded data removed]",
      "text/plain": [
       "<Figure size 432x288 with 1 Axes>"
      ]
     },
     "metadata": {
      "needs_background": "light"
     },
     "output_type": "display_data"
    }
   ],
   "source": [
    "import matplotlib.pyplot as plt\n",
    "\n",
    "average_altitude = pd.DataFrame({'Purpose': ['private', 'cargo', 'military', 'training', 'rescue', 'unkown'],\n",
    "                                'Altitude': [7716.52, 24920.4, 4815.72, 4898.03, 2623.47, 19968.8]})\n",
    "\n",
    "plt.bar(average_altitude['Purpose'], average_altitude['Altitude'])\n",
    "plt.title('Altitude based on purpose of air craft')\n",
    "plt.ylabel('Altitude')\n",
    "plt.xlabel('Purpose')\n",
    "plt.show()"
   ]
  },
  {
   "cell_type": "code",
   "execution_count": 103,
   "metadata": {},
   "outputs": [
    {
     "name": "stdout",
     "output_type": "stream",
     "text": [
      "The average altitude for private aircrafts is: 7716.52\n"
     ]
    }
   ],
   "source": [
    "print('The average altitude for private aircrafts is: ' + str(round(data3[data3['purpose'] == 'private']['altitude'].mean(), 2)))"
   ]
  },
  {
   "cell_type": "code",
   "execution_count": 104,
   "metadata": {},
   "outputs": [
    {
     "name": "stdout",
     "output_type": "stream",
     "text": [
      "The average altitude for cargo aircrafts is: 24920.4\n"
     ]
    }
   ],
   "source": [
    "print('The average altitude for cargo aircrafts is: ' + str(round(data3[data3['purpose'] == 'cargo']['altitude'].mean(), 2)))"
   ]
  },
  {
   "cell_type": "code",
   "execution_count": 105,
   "metadata": {},
   "outputs": [
    {
     "name": "stdout",
     "output_type": "stream",
     "text": [
      "The average altitude for military aircrafts is: 14815.72\n"
     ]
    }
   ],
   "source": [
    "print('The average altitude for military aircrafts is: ' + str(round(data3[data3['purpose'] == 'military']['altitude'].mean(), 2)))"
   ]
  },
  {
   "cell_type": "code",
   "execution_count": 106,
   "metadata": {},
   "outputs": [
    {
     "name": "stdout",
     "output_type": "stream",
     "text": [
      "The average altitude for training aircrafts is: 4898.03\n"
     ]
    }
   ],
   "source": [
    "print('The average altitude for training aircrafts is: ' + str(round(data3[data3['purpose'] == 'training']['altitude'].mean(), 2)))"
   ]
  },
  {
   "cell_type": "code",
   "execution_count": 107,
   "metadata": {},
   "outputs": [
    {
     "name": "stdout",
     "output_type": "stream",
     "text": [
      "The average altitude for rescue aircrafts is: 2623.47\n"
     ]
    }
   ],
   "source": [
    "print('The average altitude for rescue aircrafts is: ' + str(round(data3[data3['purpose'] == 'rescue']['altitude'].mean(), 2)))"
   ]
  },
  {
   "cell_type": "code",
   "execution_count": 108,
   "metadata": {},
   "outputs": [
    {
     "name": "stdout",
     "output_type": "stream",
     "text": [
      "The average altitude for unkown aircrafts is: 19968.8\n"
     ]
    }
   ],
   "source": [
    "print('The average altitude for unkown aircrafts is: ' + str(round(data2[data2['purpose'] == 'unknown']['altitude'].mean(), 2)))"
   ]
  }
 ],
 "metadata": {
  "kernelspec": {
   "display_name": "Python 3",
   "language": "python",
   "name": "python3"
  },
  "language_info": {
   "codemirror_mode": {
    "name": "ipython",
    "version": 3
   },
   "file_extension": ".py",
   "mimetype": "text/x-python",
   "name": "python",
   "nbconvert_exporter": "python",
   "pygments_lexer": "ipython3",
   "version": "3.7.4"
  }
 },
 "nbformat": 4,
 "nbformat_minor": 2
}
