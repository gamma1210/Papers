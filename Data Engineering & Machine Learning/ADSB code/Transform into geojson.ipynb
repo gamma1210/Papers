{
 "cells": [
  {
   "cell_type": "code",
   "execution_count": 25,
   "metadata": {},
   "outputs": [],
   "source": [
    "import pandas as pd\n",
    "import geojson\n",
    "\n",
    "def data2geojson(df, filename):\n",
    "    features = []\n",
    "    insert_features = lambda X: features.append(\n",
    "            geojson.Feature(geometry=geojson.Point((X[\"longitude\"],\n",
    "                                                    X[\"latitude\"])),\n",
    "                            properties=dict(icao=X[\"icao\"],\n",
    "                                            flight=X[\"flight_num\"],\n",
    "                                            operator=X[\"operator\"],\n",
    "                                            purpose=X[\"purpose\"],\n",
    "                                            altitude=X[\"altitude\"],\n",
    "                                            aircraft_type=X[\"type\"],\n",
    "                                            aircraft_url=X[\"url\"])))\n",
    "    df.apply(insert_features, axis=1)\n",
    "    filename = filename + '.geojson'\n",
    "    with open(filename, 'w', encoding='utf8') as fp:\n",
    "        geojson.dump(geojson.FeatureCollection(features), fp, sort_keys=True, ensure_ascii=False)"
   ]
  },
  {
   "cell_type": "code",
   "execution_count": 26,
   "metadata": {},
   "outputs": [
    {
     "name": "stderr",
     "output_type": "stream",
     "text": [
      "/usr/local/lib/python3.7/site-packages/IPython/core/interactiveshell.py:2717: DtypeWarning: Columns (3,4) have mixed types. Specify dtype option on import or set low_memory=False.\n",
      "  interactivity=interactivity, compiler=compiler, result=result)\n"
     ]
    },
    {
     "data": {
      "text/html": [
       "<div>\n",
       "<style scoped>\n",
       "    .dataframe tbody tr th:only-of-type {\n",
       "        vertical-align: middle;\n",
       "    }\n",
       "\n",
       "    .dataframe tbody tr th {\n",
       "        vertical-align: top;\n",
       "    }\n",
       "\n",
       "    .dataframe thead th {\n",
       "        text-align: right;\n",
       "    }\n",
       "</style>\n",
       "<table border=\"1\" class=\"dataframe\">\n",
       "  <thead>\n",
       "    <tr style=\"text-align: right;\">\n",
       "      <th></th>\n",
       "      <th>icao</th>\n",
       "      <th>regid</th>\n",
       "      <th>mdl</th>\n",
       "      <th>type</th>\n",
       "      <th>operator</th>\n",
       "      <th>url</th>\n",
       "    </tr>\n",
       "  </thead>\n",
       "  <tbody>\n",
       "    <tr>\n",
       "      <th>0</th>\n",
       "      <td>000334</td>\n",
       "      <td>00000000</td>\n",
       "      <td>0000</td>\n",
       "      <td>Edra Super Petrel LS</td>\n",
       "      <td>Private owner</td>\n",
       "      <td>https://www.airliners.net/search?keywords=Edra...</td>\n",
       "    </tr>\n",
       "    <tr>\n",
       "      <th>1</th>\n",
       "      <td>000d77</td>\n",
       "      <td>00000000</td>\n",
       "      <td>0000</td>\n",
       "      <td>WT-9 Dynamic</td>\n",
       "      <td>Private owner</td>\n",
       "      <td>https://www.airliners.net/search?keywords=WT-9...</td>\n",
       "    </tr>\n",
       "    <tr>\n",
       "      <th>2</th>\n",
       "      <td>000d82</td>\n",
       "      <td>00000000</td>\n",
       "      <td>0000</td>\n",
       "      <td>Aerospool WT9 Dynamic</td>\n",
       "      <td>Private owner</td>\n",
       "      <td>https://www.airliners.net/search?keywords=Aero...</td>\n",
       "    </tr>\n",
       "    <tr>\n",
       "      <th>3</th>\n",
       "      <td>001100</td>\n",
       "      <td>00000000</td>\n",
       "      <td>0000</td>\n",
       "      <td>Unknown / Various</td>\n",
       "      <td>Code used by several aircraft</td>\n",
       "      <td>https://www.airliners.net/search?keywords=Unkn...</td>\n",
       "    </tr>\n",
       "    <tr>\n",
       "      <th>4</th>\n",
       "      <td>001108</td>\n",
       "      <td>00000000</td>\n",
       "      <td>0000</td>\n",
       "      <td>Gulfstream 690D</td>\n",
       "      <td>Ejercito de Colombia</td>\n",
       "      <td>https://www.airliners.net/search?keywords=Gulf...</td>\n",
       "    </tr>\n",
       "  </tbody>\n",
       "</table>\n",
       "</div>"
      ],
      "text/plain": [
       "     icao     regid   mdl                   type  \\\n",
       "0  000334  00000000  0000   Edra Super Petrel LS   \n",
       "1  000d77  00000000  0000           WT-9 Dynamic   \n",
       "2  000d82  00000000  0000  Aerospool WT9 Dynamic   \n",
       "3  001100  00000000  0000      Unknown / Various   \n",
       "4  001108  00000000  0000        Gulfstream 690D   \n",
       "\n",
       "                        operator  \\\n",
       "0                  Private owner   \n",
       "1                  Private owner   \n",
       "2                  Private owner   \n",
       "3  Code used by several aircraft   \n",
       "4           Ejercito de Colombia   \n",
       "\n",
       "                                                 url  \n",
       "0  https://www.airliners.net/search?keywords=Edra...  \n",
       "1  https://www.airliners.net/search?keywords=WT-9...  \n",
       "2  https://www.airliners.net/search?keywords=Aero...  \n",
       "3  https://www.airliners.net/search?keywords=Unkn...  \n",
       "4  https://www.airliners.net/search?keywords=Gulf...  "
      ]
     },
     "execution_count": 26,
     "metadata": {},
     "output_type": "execute_result"
    }
   ],
   "source": [
    "data = pd.read_csv('data/aircraft_db.csv')\n",
    "data['url'] = \"https://www.airliners.net/search?keywords=\" + data['type'].str.replace(' ', '+')\n",
    "data.head()"
   ]
  },
  {
   "cell_type": "code",
   "execution_count": 27,
   "metadata": {},
   "outputs": [
    {
     "name": "stdout",
     "output_type": "stream",
     "text": [
      "101111\n",
      "30944\n",
      "981\n",
      "34739\n",
      "234\n",
      "4618\n"
     ]
    },
    {
     "data": {
      "text/plain": [
       "172627"
      ]
     },
     "execution_count": 27,
     "metadata": {},
     "output_type": "execute_result"
    }
   ],
   "source": [
    "data_private = pd.read_csv('data/private_owners.csv')\n",
    "print(len(data_private))\n",
    "data_private['purpose'] = 'private'\n",
    "data_charter = pd.read_csv('data/unscheduled_charter.csv')\n",
    "data_charter['purpose'] = 'charter'\n",
    "print(len(data_charter))\n",
    "data_rescue = pd.read_csv('data/rescue.csv')\n",
    "data_rescue['purpose'] = 'rescue'\n",
    "print(len(data_rescue))\n",
    "data_military = pd.read_csv('data/military.csv')\n",
    "data_military['purpose'] = 'military'\n",
    "print(len(data_military))\n",
    "data_space = pd.read_csv('data/space.csv')\n",
    "data_space['purpose'] = 'space'\n",
    "print(len(data_space))\n",
    "data_training = pd.read_csv('data/academy_and_clubs.csv')\n",
    "data_training['purpose'] = 'training'\n",
    "print(len(data_training))\n",
    "\n",
    "data2 = pd.concat([data_training, data_space, data_military, data_rescue, data_charter, data_private])\n",
    "\n",
    "len(data2)"
   ]
  },
  {
   "cell_type": "code",
   "execution_count": 28,
   "metadata": {},
   "outputs": [],
   "source": [
    "data3 = pd.merge(data2, data, how='inner', on='icao')"
   ]
  },
  {
   "cell_type": "code",
   "execution_count": 29,
   "metadata": {},
   "outputs": [
    {
     "data": {
      "text/html": [
       "<div>\n",
       "<style scoped>\n",
       "    .dataframe tbody tr th:only-of-type {\n",
       "        vertical-align: middle;\n",
       "    }\n",
       "\n",
       "    .dataframe tbody tr th {\n",
       "        vertical-align: top;\n",
       "    }\n",
       "\n",
       "    .dataframe thead th {\n",
       "        text-align: right;\n",
       "    }\n",
       "</style>\n",
       "<table border=\"1\" class=\"dataframe\">\n",
       "  <thead>\n",
       "    <tr style=\"text-align: right;\">\n",
       "      <th></th>\n",
       "      <th>icao</th>\n",
       "      <th>altitude</th>\n",
       "      <th>latitude</th>\n",
       "      <th>longitude</th>\n",
       "      <th>time</th>\n",
       "      <th>flight_num</th>\n",
       "      <th>purpose</th>\n",
       "      <th>regid</th>\n",
       "      <th>mdl</th>\n",
       "      <th>type</th>\n",
       "      <th>operator</th>\n",
       "      <th>url</th>\n",
       "    </tr>\n",
       "  </thead>\n",
       "  <tbody>\n",
       "    <tr>\n",
       "      <th>57522</th>\n",
       "      <td>49d13d</td>\n",
       "      <td>38000</td>\n",
       "      <td>46.20</td>\n",
       "      <td>12.56</td>\n",
       "      <td>2016-09-18 00:00:01.589</td>\n",
       "      <td>0</td>\n",
       "      <td>charter</td>\n",
       "      <td>ok-tvl</td>\n",
       "      <td>b738</td>\n",
       "      <td>Boeing 737-8FN</td>\n",
       "      <td>Travel Service</td>\n",
       "      <td>https://www.airliners.net/search?keywords=Boei...</td>\n",
       "    </tr>\n",
       "    <tr>\n",
       "      <th>43567</th>\n",
       "      <td>40676b</td>\n",
       "      <td>36350</td>\n",
       "      <td>52.37</td>\n",
       "      <td>-3.37</td>\n",
       "      <td>2016-09-18 00:00:01.758</td>\n",
       "      <td>0</td>\n",
       "      <td>charter</td>\n",
       "      <td>g-powh</td>\n",
       "      <td>b752</td>\n",
       "      <td>Boeing 757-256</td>\n",
       "      <td>Titan Airways</td>\n",
       "      <td>https://www.airliners.net/search?keywords=Boei...</td>\n",
       "    </tr>\n",
       "    <tr>\n",
       "      <th>45835</th>\n",
       "      <td>406905</td>\n",
       "      <td>35975</td>\n",
       "      <td>52.49</td>\n",
       "      <td>16.47</td>\n",
       "      <td>2016-09-18 00:00:01.991</td>\n",
       "      <td>0</td>\n",
       "      <td>charter</td>\n",
       "      <td>g-powi</td>\n",
       "      <td>a320</td>\n",
       "      <td>Airbus A320-233</td>\n",
       "      <td>Titan Airways</td>\n",
       "      <td>https://www.airliners.net/search?keywords=Airb...</td>\n",
       "    </tr>\n",
       "    <tr>\n",
       "      <th>43566</th>\n",
       "      <td>40676b</td>\n",
       "      <td>36325</td>\n",
       "      <td>52.37</td>\n",
       "      <td>-3.37</td>\n",
       "      <td>2016-09-18 00:00:03.109</td>\n",
       "      <td>0</td>\n",
       "      <td>charter</td>\n",
       "      <td>g-powh</td>\n",
       "      <td>b752</td>\n",
       "      <td>Boeing 757-256</td>\n",
       "      <td>Titan Airways</td>\n",
       "      <td>https://www.airliners.net/search?keywords=Boei...</td>\n",
       "    </tr>\n",
       "    <tr>\n",
       "      <th>43564</th>\n",
       "      <td>40676b</td>\n",
       "      <td>36300</td>\n",
       "      <td>52.37</td>\n",
       "      <td>-3.37</td>\n",
       "      <td>2016-09-18 00:00:04.133</td>\n",
       "      <td>0</td>\n",
       "      <td>charter</td>\n",
       "      <td>g-powh</td>\n",
       "      <td>b752</td>\n",
       "      <td>Boeing 757-256</td>\n",
       "      <td>Titan Airways</td>\n",
       "      <td>https://www.airliners.net/search?keywords=Boei...</td>\n",
       "    </tr>\n",
       "  </tbody>\n",
       "</table>\n",
       "</div>"
      ],
      "text/plain": [
       "         icao  altitude  latitude  longitude                    time  \\\n",
       "57522  49d13d     38000     46.20      12.56 2016-09-18 00:00:01.589   \n",
       "43567  40676b     36350     52.37      -3.37 2016-09-18 00:00:01.758   \n",
       "45835  406905     35975     52.49      16.47 2016-09-18 00:00:01.991   \n",
       "43566  40676b     36325     52.37      -3.37 2016-09-18 00:00:03.109   \n",
       "43564  40676b     36300     52.37      -3.37 2016-09-18 00:00:04.133   \n",
       "\n",
       "       flight_num  purpose   regid   mdl             type        operator  \\\n",
       "57522           0  charter  ok-tvl  b738   Boeing 737-8FN  Travel Service   \n",
       "43567           0  charter  g-powh  b752   Boeing 757-256   Titan Airways   \n",
       "45835           0  charter  g-powi  a320  Airbus A320-233   Titan Airways   \n",
       "43566           0  charter  g-powh  b752   Boeing 757-256   Titan Airways   \n",
       "43564           0  charter  g-powh  b752   Boeing 757-256   Titan Airways   \n",
       "\n",
       "                                                     url  \n",
       "57522  https://www.airliners.net/search?keywords=Boei...  \n",
       "43567  https://www.airliners.net/search?keywords=Boei...  \n",
       "45835  https://www.airliners.net/search?keywords=Airb...  \n",
       "43566  https://www.airliners.net/search?keywords=Boei...  \n",
       "43564  https://www.airliners.net/search?keywords=Boei...  "
      ]
     },
     "execution_count": 29,
     "metadata": {},
     "output_type": "execute_result"
    }
   ],
   "source": [
    "data3['time'] = pd.to_datetime(data3['time'], unit = 'ms')\n",
    "\n",
    "data3 = data3.sort_values(by='time')\n",
    "\n",
    "data3.head()"
   ]
  },
  {
   "cell_type": "code",
   "execution_count": 30,
   "metadata": {},
   "outputs": [],
   "source": [
    "data2geojson(data3, 'full_flights')"
   ]
  },
  {
   "cell_type": "markdown",
   "metadata": {},
   "source": [
    "### Get only start and finish points"
   ]
  },
  {
   "cell_type": "code",
   "execution_count": 31,
   "metadata": {},
   "outputs": [],
   "source": [
    "first_last_df = pd.DataFrame(columns=data3.columns)\n",
    "\n",
    "coordinates, icaos, flight_nums, icaos, aircraft_types, aircraft_urls, purposes = [], [], [], [], [], [], []\n",
    "\n",
    "for icao, icao_df in data3.groupby('icao'):\n",
    "    for flight_num, flight_num_df in icao_df.groupby('flight_num'):\n",
    "        first_last_df = first_last_df.append(flight_num_df.iloc[0], ignore_index=True)\n",
    "        first_last_df = first_last_df.append(flight_num_df.iloc[-1], ignore_index=True)"
   ]
  },
  {
   "cell_type": "code",
   "execution_count": 32,
   "metadata": {},
   "outputs": [],
   "source": [
    "data2geojson(first_last_df, 'aircrafts')"
   ]
  },
  {
   "cell_type": "markdown",
   "metadata": {},
   "source": [
    "### Draw line through all coordinates"
   ]
  },
  {
   "cell_type": "code",
   "execution_count": 66,
   "metadata": {},
   "outputs": [],
   "source": [
    "from random import randint\n",
    "colors = []\n",
    "\n",
    "for i in range(27):\n",
    "    colors.append('#%06X' % randint(0, 0xFFFFFF))"
   ]
  },
  {
   "cell_type": "code",
   "execution_count": 67,
   "metadata": {},
   "outputs": [],
   "source": [
    "operators, coordinates, icaos, flight_nums, icaos, aircraft_types, aircraft_urls, altitudes, strokeColors, purposes = [], [], [], [], [], [], [], [], [], []\n",
    "\n",
    "for icao, icao_df in data3.groupby('icao'):\n",
    "    \n",
    "    for flight_num, flight_num_df in icao_df.groupby('flight_num'):\n",
    "        \n",
    "        indexes = []\n",
    "        \n",
    "        for index, row in flight_num_df.iterrows():\n",
    "            indexes.append(index)\n",
    "            \n",
    "        for i in range(len(indexes)):\n",
    "            try:\n",
    "                coordinates.append([[data3['longitude'].loc[indexes[i]], data3['latitude'].loc[indexes[i]]], [data3['longitude'].loc[indexes[i+1]], data3['latitude'].loc[indexes[i+1]]]])\n",
    "                icaos.append(icao)\n",
    "                flight_nums.append(flight_num)\n",
    "                aircraft_urls.append(data3['url'].loc[indexes[i]])\n",
    "                aircraft_types.append(data3['type'].loc[indexes[i]])\n",
    "                altitudes.append(data3['altitude'].loc[indexes[i]])\n",
    "                purposes.append(data3['purpose'].loc[indexes[i]])\n",
    "                strokeColors.append(colors[flight_num])\n",
    "                operators.append(data3['operator'].loc[indexes[i]])\n",
    "            except Exception as e:\n",
    "                continue\n"
   ]
  },
  {
   "cell_type": "code",
   "execution_count": 68,
   "metadata": {},
   "outputs": [
    {
     "name": "stdout",
     "output_type": "stream",
     "text": [
      "170080\n",
      "170080\n"
     ]
    }
   ],
   "source": [
    "print(len(purposes))\n",
    "print(len(strokeColors))"
   ]
  },
  {
   "cell_type": "code",
   "execution_count": 69,
   "metadata": {},
   "outputs": [],
   "source": [
    "def data3geojson(df, filename):\n",
    "    features = []\n",
    "    insert_features = lambda X: features.append(\n",
    "            geojson.Feature(geometry=geojson.LineString((X[\"coordinates\"])),\n",
    "                            properties=dict(icao=X[\"icao\"],\n",
    "                                            strokeColor=X[\"strokeColor\"],\n",
    "                                            flight=X[\"flight_num\"],\n",
    "                                            purpose=X[\"purpose\"],\n",
    "                                            operator=X[\"operator\"],\n",
    "                                            altitude=X[\"altitude\"],\n",
    "                                            aircraft_type=X[\"type\"],\n",
    "                                            aircraft_url=X[\"url\"])))\n",
    "    df.apply(insert_features, axis=1)\n",
    "    filename = filename + '.geojson'\n",
    "    with open(filename, 'w', encoding='utf8') as fp:\n",
    "        geojson.dump(geojson.FeatureCollection(features), fp, sort_keys=True, ensure_ascii=False)\n",
    "            "
   ]
  },
  {
   "cell_type": "code",
   "execution_count": 70,
   "metadata": {},
   "outputs": [],
   "source": [
    "path_df = pd.DataFrame({'icao': icaos, 'coordinates': coordinates, 'flight_num': flight_nums,'altitude': altitudes, 'url': aircraft_urls, 'type': aircraft_types, 'strokeColor': strokeColors, 'purpose':purposes, 'operator':operators})    \n",
    "data3geojson(path_df, 'full_flight_paths')"
   ]
  },
  {
   "cell_type": "code",
   "execution_count": null,
   "metadata": {},
   "outputs": [],
   "source": []
  }
 ],
 "metadata": {
  "kernelspec": {
   "display_name": "Python 3",
   "language": "python",
   "name": "python3"
  },
  "language_info": {
   "codemirror_mode": {
    "name": "ipython",
    "version": 3
   },
   "file_extension": ".py",
   "mimetype": "text/x-python",
   "name": "python",
   "nbconvert_exporter": "python",
   "pygments_lexer": "ipython3",
   "version": "3.7.4"
  }
 },
 "nbformat": 4,
 "nbformat_minor": 2
}
