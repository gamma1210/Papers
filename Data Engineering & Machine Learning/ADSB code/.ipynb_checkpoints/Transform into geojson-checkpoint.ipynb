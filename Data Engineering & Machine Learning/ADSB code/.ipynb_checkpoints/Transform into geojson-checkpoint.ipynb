{
 "cells": [
  {
   "cell_type": "code",
   "execution_count": 52,
   "metadata": {},
   "outputs": [],
   "source": [
    "import pandas as pd\n",
    "import geojson\n",
    "\n",
    "def data2geojson(df, filename):\n",
    "    features = []\n",
    "    insert_features = lambda X: features.append(\n",
    "            geojson.Feature(geometry=geojson.Point((X[\"longitude\"],\n",
    "                                                    X[\"latitude\"])),\n",
    "                            properties=dict(icao=X[\"icao\"],\n",
    "                                            flight=X[\"flight_num\"],\n",
    "                                            altitude=X[\"altitude\"],\n",
    "                                            aircraft_type=X[\"type\"],\n",
    "                                            aircraft_url=X[\"url\"])))\n",
    "    df.apply(insert_features, axis=1)\n",
    "    filename = filename + '.geojson'\n",
    "    with open(filename, 'w', encoding='utf8') as fp:\n",
    "        geojson.dump(geojson.FeatureCollection(features), fp, sort_keys=True, ensure_ascii=False)"
   ]
  },
  {
   "cell_type": "code",
   "execution_count": 4,
   "metadata": {},
   "outputs": [
    {
     "name": "stderr",
     "output_type": "stream",
     "text": [
      "/usr/local/lib/python3.7/site-packages/IPython/core/interactiveshell.py:2717: DtypeWarning: Columns (3,4) have mixed types. Specify dtype option on import or set low_memory=False.\n",
      "  interactivity=interactivity, compiler=compiler, result=result)\n"
     ]
    },
    {
     "data": {
      "text/html": [
       "<div>\n",
       "<style scoped>\n",
       "    .dataframe tbody tr th:only-of-type {\n",
       "        vertical-align: middle;\n",
       "    }\n",
       "\n",
       "    .dataframe tbody tr th {\n",
       "        vertical-align: top;\n",
       "    }\n",
       "\n",
       "    .dataframe thead th {\n",
       "        text-align: right;\n",
       "    }\n",
       "</style>\n",
       "<table border=\"1\" class=\"dataframe\">\n",
       "  <thead>\n",
       "    <tr style=\"text-align: right;\">\n",
       "      <th></th>\n",
       "      <th>icao</th>\n",
       "      <th>regid</th>\n",
       "      <th>mdl</th>\n",
       "      <th>type</th>\n",
       "      <th>operator</th>\n",
       "      <th>url</th>\n",
       "    </tr>\n",
       "  </thead>\n",
       "  <tbody>\n",
       "    <tr>\n",
       "      <th>0</th>\n",
       "      <td>000334</td>\n",
       "      <td>00000000</td>\n",
       "      <td>0000</td>\n",
       "      <td>Edra Super Petrel LS</td>\n",
       "      <td>Private owner</td>\n",
       "      <td>https://www.airliners.net/search?keywords=Edra...</td>\n",
       "    </tr>\n",
       "    <tr>\n",
       "      <th>1</th>\n",
       "      <td>000d77</td>\n",
       "      <td>00000000</td>\n",
       "      <td>0000</td>\n",
       "      <td>WT-9 Dynamic</td>\n",
       "      <td>Private owner</td>\n",
       "      <td>https://www.airliners.net/search?keywords=WT-9...</td>\n",
       "    </tr>\n",
       "    <tr>\n",
       "      <th>2</th>\n",
       "      <td>000d82</td>\n",
       "      <td>00000000</td>\n",
       "      <td>0000</td>\n",
       "      <td>Aerospool WT9 Dynamic</td>\n",
       "      <td>Private owner</td>\n",
       "      <td>https://www.airliners.net/search?keywords=Aero...</td>\n",
       "    </tr>\n",
       "    <tr>\n",
       "      <th>3</th>\n",
       "      <td>001100</td>\n",
       "      <td>00000000</td>\n",
       "      <td>0000</td>\n",
       "      <td>Unknown / Various</td>\n",
       "      <td>Code used by several aircraft</td>\n",
       "      <td>https://www.airliners.net/search?keywords=Unkn...</td>\n",
       "    </tr>\n",
       "    <tr>\n",
       "      <th>4</th>\n",
       "      <td>001108</td>\n",
       "      <td>00000000</td>\n",
       "      <td>0000</td>\n",
       "      <td>Gulfstream 690D</td>\n",
       "      <td>Ejercito de Colombia</td>\n",
       "      <td>https://www.airliners.net/search?keywords=Gulf...</td>\n",
       "    </tr>\n",
       "  </tbody>\n",
       "</table>\n",
       "</div>"
      ],
      "text/plain": [
       "     icao     regid   mdl                   type  \\\n",
       "0  000334  00000000  0000   Edra Super Petrel LS   \n",
       "1  000d77  00000000  0000           WT-9 Dynamic   \n",
       "2  000d82  00000000  0000  Aerospool WT9 Dynamic   \n",
       "3  001100  00000000  0000      Unknown / Various   \n",
       "4  001108  00000000  0000        Gulfstream 690D   \n",
       "\n",
       "                        operator  \\\n",
       "0                  Private owner   \n",
       "1                  Private owner   \n",
       "2                  Private owner   \n",
       "3  Code used by several aircraft   \n",
       "4           Ejercito de Colombia   \n",
       "\n",
       "                                                 url  \n",
       "0  https://www.airliners.net/search?keywords=Edra...  \n",
       "1  https://www.airliners.net/search?keywords=WT-9...  \n",
       "2  https://www.airliners.net/search?keywords=Aero...  \n",
       "3  https://www.airliners.net/search?keywords=Unkn...  \n",
       "4  https://www.airliners.net/search?keywords=Gulf...  "
      ]
     },
     "execution_count": 4,
     "metadata": {},
     "output_type": "execute_result"
    }
   ],
   "source": [
    "data = pd.read_csv('data/aircraft_db.csv')\n",
    "data['url'] = \"https://www.airliners.net/search?keywords=\" + data['type'].str.replace(' ', '+')\n",
    "data.head()"
   ]
  },
  {
   "cell_type": "code",
   "execution_count": 5,
   "metadata": {},
   "outputs": [
    {
     "data": {
      "text/html": [
       "<div>\n",
       "<style scoped>\n",
       "    .dataframe tbody tr th:only-of-type {\n",
       "        vertical-align: middle;\n",
       "    }\n",
       "\n",
       "    .dataframe tbody tr th {\n",
       "        vertical-align: top;\n",
       "    }\n",
       "\n",
       "    .dataframe thead th {\n",
       "        text-align: right;\n",
       "    }\n",
       "</style>\n",
       "<table border=\"1\" class=\"dataframe\">\n",
       "  <thead>\n",
       "    <tr style=\"text-align: right;\">\n",
       "      <th></th>\n",
       "      <th>icao</th>\n",
       "      <th>altitude</th>\n",
       "      <th>latitude</th>\n",
       "      <th>longitude</th>\n",
       "      <th>time</th>\n",
       "      <th>flight_num</th>\n",
       "    </tr>\n",
       "  </thead>\n",
       "  <tbody>\n",
       "    <tr>\n",
       "      <th>0</th>\n",
       "      <td>000334</td>\n",
       "      <td>4700</td>\n",
       "      <td>-23.23</td>\n",
       "      <td>-46.18</td>\n",
       "      <td>1474555776606</td>\n",
       "      <td>0</td>\n",
       "    </tr>\n",
       "    <tr>\n",
       "      <th>1</th>\n",
       "      <td>000334</td>\n",
       "      <td>4725</td>\n",
       "      <td>-23.24</td>\n",
       "      <td>-46.17</td>\n",
       "      <td>1474555798578</td>\n",
       "      <td>0</td>\n",
       "    </tr>\n",
       "    <tr>\n",
       "      <th>2</th>\n",
       "      <td>008c1f</td>\n",
       "      <td>-75</td>\n",
       "      <td>43.54</td>\n",
       "      <td>6.95</td>\n",
       "      <td>1474467678392</td>\n",
       "      <td>1</td>\n",
       "    </tr>\n",
       "    <tr>\n",
       "      <th>3</th>\n",
       "      <td>008c1f</td>\n",
       "      <td>-50</td>\n",
       "      <td>43.54</td>\n",
       "      <td>6.95</td>\n",
       "      <td>1474467672911</td>\n",
       "      <td>1</td>\n",
       "    </tr>\n",
       "    <tr>\n",
       "      <th>4</th>\n",
       "      <td>008c1f</td>\n",
       "      <td>-25</td>\n",
       "      <td>43.54</td>\n",
       "      <td>6.95</td>\n",
       "      <td>1474467689268</td>\n",
       "      <td>1</td>\n",
       "    </tr>\n",
       "  </tbody>\n",
       "</table>\n",
       "</div>"
      ],
      "text/plain": [
       "     icao  altitude  latitude  longitude           time  flight_num\n",
       "0  000334      4700    -23.23     -46.18  1474555776606           0\n",
       "1  000334      4725    -23.24     -46.17  1474555798578           0\n",
       "2  008c1f       -75     43.54       6.95  1474467678392           1\n",
       "3  008c1f       -50     43.54       6.95  1474467672911           1\n",
       "4  008c1f       -25     43.54       6.95  1474467689268           1"
      ]
     },
     "execution_count": 5,
     "metadata": {},
     "output_type": "execute_result"
    }
   ],
   "source": [
    "data2 = pd.read_csv('data/private_owners.csv')\n",
    "data2.head()"
   ]
  },
  {
   "cell_type": "code",
   "execution_count": 45,
   "metadata": {},
   "outputs": [],
   "source": [
    "data3 = pd.merge(data2, data, how='inner', on='icao')"
   ]
  },
  {
   "cell_type": "code",
   "execution_count": 46,
   "metadata": {},
   "outputs": [],
   "source": [
    "first_last_df = pd.DataFrame(columns=data3.columns)"
   ]
  },
  {
   "cell_type": "code",
   "execution_count": 65,
   "metadata": {},
   "outputs": [],
   "source": [
    "coordinates, icaos, flight_nums, icaos, aircraft_types, aircraft_urls = [], [], [], [], [], []\n",
    "\n",
    "for icao, icao_df in data3.groupby('icao'):\n",
    "    for flight_num, flight_num_df in icao_df.groupby('flight_num'):\n",
    "        coordinates.append([[flight_num_df['longitude'].iloc[0], flight_num_df['latitude'].iloc[0]], [flight_num_df['longitude'].iloc[-1], flight_num_df['latitude'].iloc[-1]]])\n",
    "        icaos.append(icao)\n",
    "        flight_nums.append(flight_num)\n",
    "        aircraft_urls.append(flight_num_df['url'].iloc[0])\n",
    "        aircraft_types.append(flight_num_df['type'].iloc[0])\n",
    "        first_last_df = first_last_df.append(flight_num_df.iloc[0], ignore_index=True)\n",
    "        first_last_df = first_last_df.append(flight_num_df.iloc[-1], ignore_index=True)"
   ]
  },
  {
   "cell_type": "code",
   "execution_count": 54,
   "metadata": {},
   "outputs": [],
   "source": [
    "data2geojson(data3, 'full_flights')"
   ]
  },
  {
   "cell_type": "code",
   "execution_count": 55,
   "metadata": {},
   "outputs": [],
   "source": [
    "data2geojson(first_last_df, 'aircrafts')"
   ]
  },
  {
   "cell_type": "code",
   "execution_count": 66,
   "metadata": {},
   "outputs": [],
   "source": [
    "path_df = pd.DataFrame({'icao': icaos, 'coordinates': coordinates, 'flight_num': flight_nums, 'url': aircraft_urls, 'type': aircraft_types})\n",
    "    "
   ]
  },
  {
   "cell_type": "code",
   "execution_count": 67,
   "metadata": {},
   "outputs": [],
   "source": [
    "def data3geojson(df, filename):\n",
    "    features = []\n",
    "    insert_features = lambda X: features.append(\n",
    "            geojson.Feature(geometry=geojson.LineString((X[\"coordinates\"])),\n",
    "                            properties=dict(icao=X[\"icao\"],\n",
    "                                            flight=X[\"flight_num\"],\n",
    "                                            aircraft_type=X[\"type\"],\n",
    "                                            aircraft_url=X[\"url\"])))\n",
    "    df.apply(insert_features, axis=1)\n",
    "    filename = filename + '.geojson'\n",
    "    with open(filename, 'w', encoding='utf8') as fp:\n",
    "        geojson.dump(geojson.FeatureCollection(features), fp, sort_keys=True, ensure_ascii=False)\n",
    "            "
   ]
  },
  {
   "cell_type": "code",
   "execution_count": 68,
   "metadata": {},
   "outputs": [],
   "source": [
    "data3geojson(path_df, 'flight_paths')"
   ]
  },
  {
   "cell_type": "code",
   "execution_count": null,
   "metadata": {},
   "outputs": [],
   "source": []
  }
 ],
 "metadata": {
  "kernelspec": {
   "display_name": "Python 3",
   "language": "python",
   "name": "python3"
  },
  "language_info": {
   "codemirror_mode": {
    "name": "ipython",
    "version": 3
   },
   "file_extension": ".py",
   "mimetype": "text/x-python",
   "name": "python",
   "nbconvert_exporter": "python",
   "pygments_lexer": "ipython3",
   "version": "3.7.4"
  }
 },
 "nbformat": 4,
 "nbformat_minor": 2
}
